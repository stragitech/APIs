{
 "cells": [
  {
   "cell_type": "code",
   "execution_count": 1,
   "metadata": {
    "collapsed": true
   },
   "outputs": [],
   "source": [
    "import numpy as np\n",
    "import pandas as pd\n",
    "from datetime import datetime, timedelta\n",
    "import matplotlib.pyplot as plt\n",
    "%matplotlib inline\n",
    "import time"
   ]
  },
  {
   "cell_type": "code",
   "execution_count": 2,
   "metadata": {},
   "outputs": [],
   "source": [
    "np.random.seed(42)"
   ]
  },
  {
   "cell_type": "markdown",
   "metadata": {},
   "source": [
    "# Portfolio Planner\n",
    "\n",
    "In this activity, you will use the iedfinance api to grab historical data for a 60/40 portfolio using `SPY` to represent the stock portion and `AGG` to represent the bonds."
   ]
  },
  {
   "cell_type": "code",
   "execution_count": 3,
   "metadata": {
    "collapsed": true
   },
   "outputs": [],
   "source": [
    "from iexfinance.stocks import get_historical_data\n",
    "import iexfinance as iex"
   ]
  },
  {
   "cell_type": "markdown",
   "metadata": {},
   "source": [
    "# Data Collection\n",
    "\n",
    "In this step, you will need to use the IEX api to fetch closing prices for the `SPY` and `AGG` tickers. Save the results as a pandas DataFrame"
   ]
  },
  {
   "cell_type": "code",
   "execution_count": 4,
   "metadata": {
    "collapsed": true
   },
   "outputs": [
    {
     "data": {
      "text/html": [
       "<div>\n",
       "<style scoped>\n",
       "    .dataframe tbody tr th:only-of-type {\n",
       "        vertical-align: middle;\n",
       "    }\n",
       "\n",
       "    .dataframe tbody tr th {\n",
       "        vertical-align: top;\n",
       "    }\n",
       "\n",
       "    .dataframe thead tr th {\n",
       "        text-align: left;\n",
       "    }\n",
       "\n",
       "    .dataframe thead tr:last-of-type th {\n",
       "        text-align: right;\n",
       "    }\n",
       "</style>\n",
       "<table border=\"1\" class=\"dataframe\">\n",
       "  <thead>\n",
       "    <tr>\n",
       "      <th></th>\n",
       "      <th colspan=\"5\" halign=\"left\">SPY</th>\n",
       "      <th colspan=\"5\" halign=\"left\">AGG</th>\n",
       "    </tr>\n",
       "    <tr>\n",
       "      <th></th>\n",
       "      <th>open</th>\n",
       "      <th>high</th>\n",
       "      <th>low</th>\n",
       "      <th>close</th>\n",
       "      <th>volume</th>\n",
       "      <th>open</th>\n",
       "      <th>high</th>\n",
       "      <th>low</th>\n",
       "      <th>close</th>\n",
       "      <th>volume</th>\n",
       "    </tr>\n",
       "    <tr>\n",
       "      <th>date</th>\n",
       "      <th></th>\n",
       "      <th></th>\n",
       "      <th></th>\n",
       "      <th></th>\n",
       "      <th></th>\n",
       "      <th></th>\n",
       "      <th></th>\n",
       "      <th></th>\n",
       "      <th></th>\n",
       "      <th></th>\n",
       "    </tr>\n",
       "  </thead>\n",
       "  <tbody>\n",
       "    <tr>\n",
       "      <th>2018-09-10</th>\n",
       "      <td>288.74</td>\n",
       "      <td>289.04</td>\n",
       "      <td>287.88</td>\n",
       "      <td>288.10</td>\n",
       "      <td>50210903</td>\n",
       "      <td>105.85</td>\n",
       "      <td>105.95</td>\n",
       "      <td>105.85</td>\n",
       "      <td>105.91</td>\n",
       "      <td>3305683</td>\n",
       "    </tr>\n",
       "    <tr>\n",
       "      <th>2018-09-11</th>\n",
       "      <td>287.37</td>\n",
       "      <td>289.55</td>\n",
       "      <td>286.98</td>\n",
       "      <td>289.05</td>\n",
       "      <td>50530492</td>\n",
       "      <td>105.78</td>\n",
       "      <td>105.84</td>\n",
       "      <td>105.70</td>\n",
       "      <td>105.73</td>\n",
       "      <td>4918982</td>\n",
       "    </tr>\n",
       "    <tr>\n",
       "      <th>2018-09-12</th>\n",
       "      <td>289.06</td>\n",
       "      <td>289.80</td>\n",
       "      <td>288.23</td>\n",
       "      <td>289.12</td>\n",
       "      <td>59810758</td>\n",
       "      <td>105.81</td>\n",
       "      <td>105.89</td>\n",
       "      <td>105.80</td>\n",
       "      <td>105.80</td>\n",
       "      <td>4168939</td>\n",
       "    </tr>\n",
       "    <tr>\n",
       "      <th>2018-09-13</th>\n",
       "      <td>290.32</td>\n",
       "      <td>291.04</td>\n",
       "      <td>290.00</td>\n",
       "      <td>290.83</td>\n",
       "      <td>51034222</td>\n",
       "      <td>105.96</td>\n",
       "      <td>106.00</td>\n",
       "      <td>105.85</td>\n",
       "      <td>105.87</td>\n",
       "      <td>2280187</td>\n",
       "    </tr>\n",
       "    <tr>\n",
       "      <th>2018-09-14</th>\n",
       "      <td>291.06</td>\n",
       "      <td>291.27</td>\n",
       "      <td>290.00</td>\n",
       "      <td>290.88</td>\n",
       "      <td>55079875</td>\n",
       "      <td>105.72</td>\n",
       "      <td>105.79</td>\n",
       "      <td>105.66</td>\n",
       "      <td>105.67</td>\n",
       "      <td>2693325</td>\n",
       "    </tr>\n",
       "  </tbody>\n",
       "</table>\n",
       "</div>"
      ],
      "text/plain": [
       "               SPY                                       AGG                  \\\n",
       "              open    high     low   close    volume    open    high     low   \n",
       "date                                                                           \n",
       "2018-09-10  288.74  289.04  287.88  288.10  50210903  105.85  105.95  105.85   \n",
       "2018-09-11  287.37  289.55  286.98  289.05  50530492  105.78  105.84  105.70   \n",
       "2018-09-12  289.06  289.80  288.23  289.12  59810758  105.81  105.89  105.80   \n",
       "2018-09-13  290.32  291.04  290.00  290.83  51034222  105.96  106.00  105.85   \n",
       "2018-09-14  291.06  291.27  290.00  290.88  55079875  105.72  105.79  105.66   \n",
       "\n",
       "                             \n",
       "             close   volume  \n",
       "date                         \n",
       "2018-09-10  105.91  3305683  \n",
       "2018-09-11  105.73  4918982  \n",
       "2018-09-12  105.80  4168939  \n",
       "2018-09-13  105.87  2280187  \n",
       "2018-09-14  105.67  2693325  "
      ]
     },
     "execution_count": 4,
     "metadata": {},
     "output_type": "execute_result"
    }
   ],
   "source": [
    "list_of_tickers = [\"SPY\", \"AGG\"]\n",
    "end_date = datetime.now()\n",
    "start_date = end_date + timedelta(-365)\n",
    "\n",
    "#\n",
    "df = get_historical_data(list_of_tickers, start_date, end_date,  output_format='pandas')\n",
    "df.head()"
   ]
  },
  {
   "cell_type": "code",
   "execution_count": 5,
   "metadata": {},
   "outputs": [
    {
     "data": {
      "text/html": [
       "<div>\n",
       "<style scoped>\n",
       "    .dataframe tbody tr th:only-of-type {\n",
       "        vertical-align: middle;\n",
       "    }\n",
       "\n",
       "    .dataframe tbody tr th {\n",
       "        vertical-align: top;\n",
       "    }\n",
       "\n",
       "    .dataframe thead tr th {\n",
       "        text-align: left;\n",
       "    }\n",
       "\n",
       "    .dataframe thead tr:last-of-type th {\n",
       "        text-align: right;\n",
       "    }\n",
       "</style>\n",
       "<table border=\"1\" class=\"dataframe\">\n",
       "  <thead>\n",
       "    <tr>\n",
       "      <th></th>\n",
       "      <th>SPY</th>\n",
       "      <th>AGG</th>\n",
       "    </tr>\n",
       "    <tr>\n",
       "      <th></th>\n",
       "      <th>close</th>\n",
       "      <th>close</th>\n",
       "    </tr>\n",
       "    <tr>\n",
       "      <th>date</th>\n",
       "      <th></th>\n",
       "      <th></th>\n",
       "    </tr>\n",
       "  </thead>\n",
       "  <tbody>\n",
       "    <tr>\n",
       "      <th>2018-09-10</th>\n",
       "      <td>288.10</td>\n",
       "      <td>105.91</td>\n",
       "    </tr>\n",
       "    <tr>\n",
       "      <th>2018-09-11</th>\n",
       "      <td>289.05</td>\n",
       "      <td>105.73</td>\n",
       "    </tr>\n",
       "    <tr>\n",
       "      <th>2018-09-12</th>\n",
       "      <td>289.12</td>\n",
       "      <td>105.80</td>\n",
       "    </tr>\n",
       "    <tr>\n",
       "      <th>2018-09-13</th>\n",
       "      <td>290.83</td>\n",
       "      <td>105.87</td>\n",
       "    </tr>\n",
       "    <tr>\n",
       "      <th>2018-09-14</th>\n",
       "      <td>290.88</td>\n",
       "      <td>105.67</td>\n",
       "    </tr>\n",
       "  </tbody>\n",
       "</table>\n",
       "</div>"
      ],
      "text/plain": [
       "               SPY     AGG\n",
       "             close   close\n",
       "date                      \n",
       "2018-09-10  288.10  105.91\n",
       "2018-09-11  289.05  105.73\n",
       "2018-09-12  289.12  105.80\n",
       "2018-09-13  290.83  105.87\n",
       "2018-09-14  290.88  105.67"
      ]
     },
     "execution_count": 5,
     "metadata": {},
     "output_type": "execute_result"
    }
   ],
   "source": [
    "df.drop(columns=['open', 'high', 'low', 'volume'], level=1, inplace=True)\n",
    "df.head()"
   ]
  },
  {
   "cell_type": "markdown",
   "metadata": {},
   "source": [
    "# Monte Carlo Simulation\n",
    "\n",
    "In this step, you will run Monte Carlo Simulations for your portfolio to model portfolio performance at different retirement ages. \n",
    "\n",
    "Complete the following steps:\n",
    "1. Calculate the daily returns for the SPY and AGG closing prices.\n",
    "2. Calculate volatility for both the SPY and AGG closing prices.\n",
    "3. Find the last day's closing price for both stocks and save those as variables.\n",
    "4. Run a Monte Carlo Simulation of at least 100 iterations and generate at least 20 years of closing prices\n",
    "\n",
    "### HINTS:\n",
    "There are 252 trading days per year, so the number of records to generate for each Monte Carlo run will be 252 days * 20 years"
   ]
  },
  {
   "cell_type": "code",
   "execution_count": 6,
   "metadata": {},
   "outputs": [
    {
     "data": {
      "text/html": [
       "<div>\n",
       "<style scoped>\n",
       "    .dataframe tbody tr th:only-of-type {\n",
       "        vertical-align: middle;\n",
       "    }\n",
       "\n",
       "    .dataframe tbody tr th {\n",
       "        vertical-align: top;\n",
       "    }\n",
       "\n",
       "    .dataframe thead tr th {\n",
       "        text-align: left;\n",
       "    }\n",
       "\n",
       "    .dataframe thead tr:last-of-type th {\n",
       "        text-align: right;\n",
       "    }\n",
       "</style>\n",
       "<table border=\"1\" class=\"dataframe\">\n",
       "  <thead>\n",
       "    <tr>\n",
       "      <th></th>\n",
       "      <th>SPY</th>\n",
       "      <th>AGG</th>\n",
       "    </tr>\n",
       "    <tr>\n",
       "      <th></th>\n",
       "      <th>close</th>\n",
       "      <th>close</th>\n",
       "    </tr>\n",
       "    <tr>\n",
       "      <th>date</th>\n",
       "      <th></th>\n",
       "      <th></th>\n",
       "    </tr>\n",
       "  </thead>\n",
       "  <tbody>\n",
       "    <tr>\n",
       "      <th>2018-09-11</th>\n",
       "      <td>0.003297</td>\n",
       "      <td>-0.001700</td>\n",
       "    </tr>\n",
       "    <tr>\n",
       "      <th>2018-09-12</th>\n",
       "      <td>0.000242</td>\n",
       "      <td>0.000662</td>\n",
       "    </tr>\n",
       "    <tr>\n",
       "      <th>2018-09-13</th>\n",
       "      <td>0.005914</td>\n",
       "      <td>0.000662</td>\n",
       "    </tr>\n",
       "    <tr>\n",
       "      <th>2018-09-14</th>\n",
       "      <td>0.000172</td>\n",
       "      <td>-0.001889</td>\n",
       "    </tr>\n",
       "    <tr>\n",
       "      <th>2018-09-17</th>\n",
       "      <td>-0.005294</td>\n",
       "      <td>0.000000</td>\n",
       "    </tr>\n",
       "  </tbody>\n",
       "</table>\n",
       "</div>"
      ],
      "text/plain": [
       "                 SPY       AGG\n",
       "               close     close\n",
       "date                          \n",
       "2018-09-11  0.003297 -0.001700\n",
       "2018-09-12  0.000242  0.000662\n",
       "2018-09-13  0.005914  0.000662\n",
       "2018-09-14  0.000172 -0.001889\n",
       "2018-09-17 -0.005294  0.000000"
      ]
     },
     "execution_count": 6,
     "metadata": {},
     "output_type": "execute_result"
    }
   ],
   "source": [
    "# Calculate the daily roi for the stocks\n",
    "daily_returns = df.pct_change()\n",
    "daily_returns.dropna().head()"
   ]
  },
  {
   "cell_type": "code",
   "execution_count": 7,
   "metadata": {
    "collapsed": true
   },
   "outputs": [
    {
     "data": {
      "text/plain": [
       "0.01062358343949998"
      ]
     },
     "execution_count": 7,
     "metadata": {},
     "output_type": "execute_result"
    }
   ],
   "source": [
    "# Calculate volatility\n",
    "std_dev_daily_return_spy = daily_returns.std()['SPY']['close']\n",
    "std_dev_daily_return_agg = daily_returns.std()['AGG']['close']\n",
    "std_dev_daily_return_spy"
   ]
  },
  {
   "cell_type": "code",
   "execution_count": 8,
   "metadata": {},
   "outputs": [
    {
     "data": {
      "text/plain": [
       "0.00019265289667060655"
      ]
     },
     "execution_count": 8,
     "metadata": {},
     "output_type": "execute_result"
    }
   ],
   "source": [
    "avg_daily_return_spy = daily_returns.mean()['SPY']['close']\n",
    "avg_daily_return_agg = daily_returns.mean()['AGG']['close']\n",
    "avg_daily_return_spy"
   ]
  },
  {
   "cell_type": "code",
   "execution_count": 9,
   "metadata": {
    "collapsed": true
   },
   "outputs": [],
   "source": [
    "# Save the last day's closing price"
   ]
  },
  {
   "cell_type": "code",
   "execution_count": 10,
   "metadata": {
    "collapsed": true
   },
   "outputs": [],
   "source": [
    "# Setup the Monte Carlo Parameters\n",
    "number_simulations = 500\n",
    "num_trading_days = 7560\n",
    "number_records = num_trading_days * 30\n",
    "monte_carlo = pd.DataFrame()\n",
    "\n",
    "simulated_price_df = pd.DataFrame()\n",
    "portfolio_cumulative_returns = pd.DataFrame()\n",
    "\n",
    "spy_close = df['SPY']['close'][-1]\n",
    "agg_close = df['AGG']['close'][-1]\n"
   ]
  },
  {
   "cell_type": "code",
   "execution_count": 11,
   "metadata": {},
   "outputs": [
    {
     "data": {
      "text/html": [
       "<div>\n",
       "<style scoped>\n",
       "    .dataframe tbody tr th:only-of-type {\n",
       "        vertical-align: middle;\n",
       "    }\n",
       "\n",
       "    .dataframe tbody tr th {\n",
       "        vertical-align: top;\n",
       "    }\n",
       "\n",
       "    .dataframe thead th {\n",
       "        text-align: right;\n",
       "    }\n",
       "</style>\n",
       "<table border=\"1\" class=\"dataframe\">\n",
       "  <thead>\n",
       "    <tr style=\"text-align: right;\">\n",
       "      <th></th>\n",
       "      <th>0</th>\n",
       "      <th>1</th>\n",
       "      <th>2</th>\n",
       "      <th>3</th>\n",
       "      <th>4</th>\n",
       "      <th>5</th>\n",
       "      <th>6</th>\n",
       "      <th>7</th>\n",
       "      <th>8</th>\n",
       "      <th>9</th>\n",
       "      <th>...</th>\n",
       "      <th>490</th>\n",
       "      <th>491</th>\n",
       "      <th>492</th>\n",
       "      <th>493</th>\n",
       "      <th>494</th>\n",
       "      <th>495</th>\n",
       "      <th>496</th>\n",
       "      <th>497</th>\n",
       "      <th>498</th>\n",
       "      <th>499</th>\n",
       "    </tr>\n",
       "  </thead>\n",
       "  <tbody>\n",
       "    <tr>\n",
       "      <th>0</th>\n",
       "      <td>1.000000</td>\n",
       "      <td>1.000000</td>\n",
       "      <td>1.000000</td>\n",
       "      <td>1.000000</td>\n",
       "      <td>1.000000</td>\n",
       "      <td>1.000000</td>\n",
       "      <td>1.000000</td>\n",
       "      <td>1.000000</td>\n",
       "      <td>1.000000</td>\n",
       "      <td>1.000000</td>\n",
       "      <td>...</td>\n",
       "      <td>1.000000</td>\n",
       "      <td>1.000000</td>\n",
       "      <td>1.000000</td>\n",
       "      <td>1.000000</td>\n",
       "      <td>1.000000</td>\n",
       "      <td>1.000000</td>\n",
       "      <td>1.000000</td>\n",
       "      <td>1.000000</td>\n",
       "      <td>1.000000</td>\n",
       "      <td>1.000000</td>\n",
       "    </tr>\n",
       "    <tr>\n",
       "      <th>1</th>\n",
       "      <td>1.003294</td>\n",
       "      <td>0.993772</td>\n",
       "      <td>0.990613</td>\n",
       "      <td>0.998626</td>\n",
       "      <td>1.006086</td>\n",
       "      <td>1.009339</td>\n",
       "      <td>1.012474</td>\n",
       "      <td>0.993433</td>\n",
       "      <td>1.001933</td>\n",
       "      <td>0.998825</td>\n",
       "      <td>...</td>\n",
       "      <td>1.002255</td>\n",
       "      <td>0.994414</td>\n",
       "      <td>1.009201</td>\n",
       "      <td>0.999308</td>\n",
       "      <td>0.996736</td>\n",
       "      <td>1.003449</td>\n",
       "      <td>0.994285</td>\n",
       "      <td>0.990682</td>\n",
       "      <td>1.003884</td>\n",
       "      <td>0.996410</td>\n",
       "    </tr>\n",
       "    <tr>\n",
       "      <th>2</th>\n",
       "      <td>1.008798</td>\n",
       "      <td>0.998218</td>\n",
       "      <td>0.988809</td>\n",
       "      <td>0.997597</td>\n",
       "      <td>1.010263</td>\n",
       "      <td>0.996617</td>\n",
       "      <td>1.004776</td>\n",
       "      <td>0.979222</td>\n",
       "      <td>1.000462</td>\n",
       "      <td>1.009992</td>\n",
       "      <td>...</td>\n",
       "      <td>1.004340</td>\n",
       "      <td>1.003729</td>\n",
       "      <td>1.012836</td>\n",
       "      <td>1.000802</td>\n",
       "      <td>0.998133</td>\n",
       "      <td>0.999723</td>\n",
       "      <td>0.993090</td>\n",
       "      <td>0.990988</td>\n",
       "      <td>1.003518</td>\n",
       "      <td>1.000712</td>\n",
       "    </tr>\n",
       "    <tr>\n",
       "      <th>3</th>\n",
       "      <td>1.007349</td>\n",
       "      <td>0.997897</td>\n",
       "      <td>0.993121</td>\n",
       "      <td>0.989212</td>\n",
       "      <td>1.009106</td>\n",
       "      <td>1.000920</td>\n",
       "      <td>1.009255</td>\n",
       "      <td>0.971250</td>\n",
       "      <td>0.999745</td>\n",
       "      <td>1.019964</td>\n",
       "      <td>...</td>\n",
       "      <td>1.003876</td>\n",
       "      <td>1.007522</td>\n",
       "      <td>1.018682</td>\n",
       "      <td>1.002017</td>\n",
       "      <td>0.989167</td>\n",
       "      <td>0.997386</td>\n",
       "      <td>0.997230</td>\n",
       "      <td>0.998675</td>\n",
       "      <td>1.007444</td>\n",
       "      <td>0.998319</td>\n",
       "    </tr>\n",
       "    <tr>\n",
       "      <th>4</th>\n",
       "      <td>1.018293</td>\n",
       "      <td>1.001195</td>\n",
       "      <td>0.987482</td>\n",
       "      <td>0.996256</td>\n",
       "      <td>1.010209</td>\n",
       "      <td>0.993446</td>\n",
       "      <td>1.006724</td>\n",
       "      <td>0.967626</td>\n",
       "      <td>1.009847</td>\n",
       "      <td>1.005339</td>\n",
       "      <td>...</td>\n",
       "      <td>1.006239</td>\n",
       "      <td>1.004357</td>\n",
       "      <td>1.016261</td>\n",
       "      <td>1.009107</td>\n",
       "      <td>0.996937</td>\n",
       "      <td>0.992971</td>\n",
       "      <td>0.989431</td>\n",
       "      <td>0.998947</td>\n",
       "      <td>1.013333</td>\n",
       "      <td>1.002574</td>\n",
       "    </tr>\n",
       "  </tbody>\n",
       "</table>\n",
       "<p>5 rows × 500 columns</p>\n",
       "</div>"
      ],
      "text/plain": [
       "        0         1         2         3         4         5         6    \\\n",
       "0  1.000000  1.000000  1.000000  1.000000  1.000000  1.000000  1.000000   \n",
       "1  1.003294  0.993772  0.990613  0.998626  1.006086  1.009339  1.012474   \n",
       "2  1.008798  0.998218  0.988809  0.997597  1.010263  0.996617  1.004776   \n",
       "3  1.007349  0.997897  0.993121  0.989212  1.009106  1.000920  1.009255   \n",
       "4  1.018293  1.001195  0.987482  0.996256  1.010209  0.993446  1.006724   \n",
       "\n",
       "        7         8         9    ...       490       491       492       493  \\\n",
       "0  1.000000  1.000000  1.000000  ...  1.000000  1.000000  1.000000  1.000000   \n",
       "1  0.993433  1.001933  0.998825  ...  1.002255  0.994414  1.009201  0.999308   \n",
       "2  0.979222  1.000462  1.009992  ...  1.004340  1.003729  1.012836  1.000802   \n",
       "3  0.971250  0.999745  1.019964  ...  1.003876  1.007522  1.018682  1.002017   \n",
       "4  0.967626  1.009847  1.005339  ...  1.006239  1.004357  1.016261  1.009107   \n",
       "\n",
       "        494       495       496       497       498       499  \n",
       "0  1.000000  1.000000  1.000000  1.000000  1.000000  1.000000  \n",
       "1  0.996736  1.003449  0.994285  0.990682  1.003884  0.996410  \n",
       "2  0.998133  0.999723  0.993090  0.990988  1.003518  1.000712  \n",
       "3  0.989167  0.997386  0.997230  0.998675  1.007444  0.998319  \n",
       "4  0.996937  0.992971  0.989431  0.998947  1.013333  1.002574  \n",
       "\n",
       "[5 rows x 500 columns]"
      ]
     },
     "execution_count": 11,
     "metadata": {},
     "output_type": "execute_result"
    }
   ],
   "source": [
    "# Run the Monte Carlo Simulation\n",
    "\n",
    "for n in range(number_simulations):\n",
    "    \n",
    "    simulated_spy_prices = [spy_close]\n",
    "    simulated_agg_prices = [agg_close]\n",
    "    \n",
    "    for i in range(num_trading_days):\n",
    "        \n",
    "        # Calculate the simulated price using the last price within the list\n",
    "        simulated_spy_price = simulated_spy_prices[-1] * (1 + np.random.normal(avg_daily_return_spy, std_dev_daily_return_spy))\n",
    "        simulated_agg_price = simulated_agg_prices[-1] * (1 + np.random.normal(avg_daily_return_agg,std_dev_daily_return_agg))\n",
    "        \n",
    "        # Append the simulated price to the list\n",
    "        simulated_spy_prices.append(simulated_spy_price)\n",
    "        simulated_agg_prices.append(simulated_agg_price)\n",
    "    \n",
    "    # Append a simulated prices of each simulation to DataFrame\n",
    "    simulated_price_df[\"SPY prices\"] = pd.Series(simulated_spy_prices)\n",
    "    simulated_price_df[\"AGG prices\"] = pd.Series(simulated_agg_prices)\n",
    "    \n",
    "    # Calculate the daily returns of simulated prices\n",
    "    simulated_daily_returns = simulated_price_df.pct_change()\n",
    "    \n",
    "    weights = [0.60, 0.40]\n",
    "\n",
    "    # Use the `dot` function with the weights to multiply weights with each column's simulated daily returns\n",
    "    portfolio_daily_returns = simulated_daily_returns.dot(weights)\n",
    "    \n",
    "    # Calculate the normalized, cumulative return series\n",
    "    portfolio_cumulative_returns[n] = (1 + portfolio_daily_returns.fillna(0)).cumprod()\n",
    "\n",
    "# Print records from the DataFrame\n",
    "portfolio_cumulative_returns.head()"
   ]
  },
  {
   "cell_type": "code",
   "execution_count": 12,
   "metadata": {},
   "outputs": [
    {
     "name": "stdout",
     "output_type": "stream",
     "text": [
      "--- 10.598910570144653 seconds ---\n"
     ]
    },
    {
     "data": {
      "image/png": "[encoded data removed]",
      "text/plain": [
       "<Figure size 432x288 with 1 Axes>"
      ]
     },
     "metadata": {
      "needs_background": "light"
     },
     "output_type": "display_data"
    }
   ],
   "source": [
    "# Visualize the Simulation\n",
    "start_time = time.time()\n",
    "plot_title = f\"{n+1} Simulations of Cumulative Portfolio Return Trajectories Over the Next {num_trading_days} Trading Days\"\n",
    "portfolio_cumulative_returns.plot(legend=None, title=plot_title)\n",
    "\n",
    "print(\"--- %s seconds ---\" % (time.time() - start_time))"
   ]
  },
  {
   "cell_type": "code",
   "execution_count": 13,
   "metadata": {},
   "outputs": [
    {
     "ename": "SyntaxError",
     "evalue": "invalid syntax (<ipython-input-13-0828a9c35b42>, line 2)",
     "output_type": "error",
     "traceback": [
      "\u001b[1;36m  File \u001b[1;32m\"<ipython-input-13-0828a9c35b42>\"\u001b[1;36m, line \u001b[1;32m2\u001b[0m\n\u001b[1;33m    ending_cumulative_returns = portfolio_cumulative_returns.iloc[-1, :]blx\u001b[0m\n\u001b[1;37m                                                                          ^\u001b[0m\n\u001b[1;31mSyntaxError\u001b[0m\u001b[1;31m:\u001b[0m invalid syntax\n"
     ]
    }
   ],
   "source": [
    "# Select the last row for the cumulative returns (cumulative returns at 30 years)\n",
    "ending_cumulative_returns = portfolio_cumulative_returns.iloc[-1, :]blx\n",
    "ending_cumulative_returns.head()"
   ]
  },
  {
   "cell_type": "code",
   "execution_count": null,
   "metadata": {},
   "outputs": [],
   "source": [
    "# Select the last row for the cumulative returns (cumulative returns at 20 years)\n",
    "returns_20 = num_trading_days * 20\n",
    "returns_20_years = portfolio_cumulative_returns.iloc[-1, : returns_20]\n",
    "#returns_20_years = portfolio_cumulative_returns.iloc[-1, 450]\n",
    "returns_20_years.head()"
   ]
  },
  {
   "cell_type": "code",
   "execution_count": null,
   "metadata": {},
   "outputs": [],
   "source": [
    "ending_cumulative_returns.value_counts(bins=10) / len(ending_cumulative_returns)"
   ]
  },
  {
   "cell_type": "code",
   "execution_count": null,
   "metadata": {},
   "outputs": [],
   "source": [
    "def confidence_interval_2(r):\n",
    "    \"\"\"Calculate quintile values from decimal confidence interval value\"\"\"\n",
    "    quintile_range_difference = (1-r)\n",
    "    quintile_range = [(0+quintile_range_difference), (1-quintile_range_difference)]\n",
    "    \n",
    "    confidence_interval = ending_cumulative_returns.quantile(q=quintile_range)\n",
    "    \n",
    "    ending_cumulative_returns.plot(kind='hist', density=True, bins=10)\n",
    "    plt.axvline(confidence_interval.iloc[0], color='r')\n",
    "    plt.axvline(confidence_interval.iloc[1], color='r')\n",
    "\n",
    "    "
   ]
  },
  {
   "cell_type": "code",
   "execution_count": null,
   "metadata": {},
   "outputs": [],
   "source": [
    "# Display the 90% confidence interval for the ending returns\n",
    "\n",
    "print(confidence_interval_2(.9))"
   ]
  },
  {
   "cell_type": "markdown",
   "metadata": {},
   "source": [
    "# Visualize the distribution of the ending returns"
   ]
  },
  {
   "cell_type": "markdown",
   "metadata": {},
   "source": [
    "---"
   ]
  },
  {
   "cell_type": "code",
   "execution_count": null,
   "metadata": {},
   "outputs": [],
   "source": [
    "end_returns = portfolio_cumulative_returns.iloc[-1, :]\n",
    "end_returns.head()\n",
    "end_returns.plot(kind='hist', bins=100)"
   ]
  },
  {
   "cell_type": "markdown",
   "metadata": {},
   "source": [
    "# Retirement Analysis\n",
    "\n",
    "In this section, you will use the monte carlo model to answer the following retirement planning questions:\n",
    "\n",
    "1. What are the expected cumulative returns at 30 years for the 10th, 50th, and 90th percentiles?\n",
    "2. Given an initial investment of `$20,000`, what is the expected portfolio return in dollars at the 10th, 50th, and 90th percentiles?\n",
    "3. Given the current projected annual income from the Plaid analysis, will a 4% withdraw rate from the retirement portfolio meet or exceed that value at the 10th percentile?\n",
    "4. How would a 50% increase in the initial investment amount affect the 4% retirement withdrawal?"
   ]
  },
  {
   "cell_type": "markdown",
   "metadata": {},
   "source": [
    "### What are the expected cumulative returns at 30 years for the 10th, 50th, and 90th percentiles?"
   ]
  },
  {
   "cell_type": "code",
   "execution_count": null,
   "metadata": {},
   "outputs": [],
   "source": [
    "print(confidence_interval_2(.1))\n",
    "print(confidence_interval_2(.5))\n",
    "print(confidence_interval_2(.9))"
   ]
  },
  {
   "cell_type": "markdown",
   "metadata": {},
   "source": [
    "### Given an initial investment of `$20,000`, what is the expected portfolio return in dollars at the 10th, 50th, and 90th percentiles?"
   ]
  },
  {
   "cell_type": "code",
   "execution_count": null,
   "metadata": {},
   "outputs": [],
   "source": [
    "initial_investment = 20000\n",
    "def confidence_interval_1(r):\n",
    "    \"\"\"Calculate quintile values from decimal confidence interval value\"\"\"\n",
    "    quintile_range_difference = (1-r)\n",
    "    quintile_range = [(0+quintile_range_difference), (1-quintile_range_difference)]\n",
    "    \n",
    "    confidence_interval = ending_cumulative_returns.quantile(q=quintile_range)\n",
    "    return confidence_interval\n",
    "    \n",
    "def expected_returns(p):\n",
    "    #def confidence_interval_3(r):\n",
    "        #\"\"\"Calculate quintile values from decimal confidence interval value\"\"\"\n",
    "        #quintile_range_difference = (1-r)/2\n",
    "        #quintile_range = [(0+quintile_range_difference), (1-quintile_range_difference)]\n",
    "    \n",
    "        #confidence_interval = ending_cumulative_returns.quantile(q=quintile_range)\n",
    "        #return confidence_interval\n",
    "    \"\"\"Input percentile in decimal to get expected returns range\"\"\"\n",
    "    return confidence_interval_1(p)\n",
    "    \n",
    "    #investment_pnl_lower_bound = initial_investment * confidence_interval.iloc[0]\n",
    "    investment_pnl_upper_bound = initial_investment * confidence_interval.iloc[1]\n",
    "    \n",
    "    #print(f\"There is a {confidence_interval_1}% chance that an initial investment of ${initial_investment} in the portfolio\"\n",
    "    #f\" over the next 252 * 3 trading days will end within in the range of\"\n",
    "    #f\" ${investment_pnl_lower_bound} and ${investment_pnl_upper_bound}\")\n",
    "    \n",
    "# Calculate investment profit/loss of lower and upper bound cumulative portfolio returns\n",
    "#investment_pnl_lower_bound = initial_investment * confidence_interval.iloc[0]\n",
    "#investment_pnl_upper_bound = initial_investment * confidence_interval.iloc[1]\n",
    "                                                    \n",
    "# Print the results\n",
    "#print(f\"There is a {confidence_interval_2}% chance that an initial investment of ${initial_investment} in the portfolio\"\n",
    "      #f\" over the next 252 * 3 trading days will end within in the range of\"\n",
    "      #f\" ${investment_pnl_lower_bound} and ${investment_pnl_upper_bound}\")\n",
    "returns_9 = expected_returns(.9)[1::2]\n",
    "print(returns_9*initial_investment)\n",
    "print(expected_returns(.9)*initial_investment)\n",
    "print(expected_returns(.5)*initial_investment)\n",
    "#print(expected_returns(.1)*initial_investment)"
   ]
  },
  {
   "cell_type": "code",
   "execution_count": null,
   "metadata": {},
   "outputs": [],
   "source": [
    "print(type(expected_returns(.69)))"
   ]
  },
  {
   "cell_type": "markdown",
   "metadata": {},
   "source": [
    "### Given the current projected annual income from the Plaid analysis, will a 4% withdraw rate from the retirement portfolio meet or exceed that value at the 10th percentile?\n",
    "\n",
    "Note: This is effectively saying that 90% of the expected returns will be greater than the return at the 10th percentile, so this can help measure the uncertainty about having enough funds at retirement"
   ]
  },
  {
   "cell_type": "code",
   "execution_count": null,
   "metadata": {},
   "outputs": [],
   "source": [
    "# YOUR CODE HERE"
   ]
  },
  {
   "cell_type": "markdown",
   "metadata": {},
   "source": [
    "### How would a 50% increase in the initial investment amount affect the 4% retirement withdrawal?"
   ]
  },
  {
   "cell_type": "code",
   "execution_count": 22,
   "metadata": {},
   "outputs": [],
   "source": [
    "# YOUR CODE HERE"
   ]
  },
  {
   "cell_type": "markdown",
   "metadata": {},
   "source": [
    "### Optional Challenge\n",
    "\n",
    "In this section, you will calculate and plot the cumulative returns for the median and 90% confidence intervals. This plot shows the expected cumulative returns for any given day between the first day and the last day of investment. "
   ]
  },
  {
   "cell_type": "code",
   "execution_count": 23,
   "metadata": {},
   "outputs": [],
   "source": [
    "# YOUR CODE HERE"
   ]
  }
 ],
 "metadata": {
  "kernel_info": {
   "name": "dev"
  },
  "kernelspec": {
   "display_name": "Python 3",
   "language": "python",
   "name": "python3"
  },
  "language_info": {
   "codemirror_mode": {
    "name": "ipython",
    "version": 3
   },
   "file_extension": ".py",
   "mimetype": "text/x-python",
   "name": "python",
   "nbconvert_exporter": "python",
   "pygments_lexer": "ipython3",
   "version": "3.7.3"
  },
  "nteract": {
   "version": "0.12.3"
  }
 },
 "nbformat": 4,
 "nbformat_minor": 2
}
