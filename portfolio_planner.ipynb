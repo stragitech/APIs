{
 "cells": [
  {
   "cell_type": "code",
   "execution_count": 1,
   "metadata": {
    "collapsed": true
   },
   "outputs": [],
   "source": [
    "import numpy as np\n",
    "import pandas as pd\n",
    "from datetime import datetime, timedelta\n",
    "import matplotlib.pyplot as plt\n",
    "%matplotlib inline\n",
    "import time"
   ]
  },
  {
   "cell_type": "code",
   "execution_count": 2,
   "metadata": {},
   "outputs": [],
   "source": [
    "np.random.seed(42)"
   ]
  },
  {
   "cell_type": "markdown",
   "metadata": {},
   "source": [
    "# Portfolio Planner\n",
    "\n",
    "In this activity, you will use the iedfinance api to grab historical data for a 60/40 portfolio using `SPY` to represent the stock portion and `AGG` to represent the bonds."
   ]
  },
  {
   "cell_type": "code",
   "execution_count": 3,
   "metadata": {
    "collapsed": true
   },
   "outputs": [],
   "source": [
    "from iexfinance.stocks import get_historical_data\n",
    "import iexfinance as iex"
   ]
  },
  {
   "cell_type": "markdown",
   "metadata": {},
   "source": [
    "# Data Collection\n",
    "\n",
    "In this step, you will need to use the IEX api to fetch closing prices for the `SPY` and `AGG` tickers. Save the results as a pandas DataFrame"
   ]
  },
  {
   "cell_type": "code",
   "execution_count": 4,
   "metadata": {
    "collapsed": true
   },
   "outputs": [
    {
     "data": {
      "text/html": [
       "<div>\n",
       "<style scoped>\n",
       "    .dataframe tbody tr th:only-of-type {\n",
       "        vertical-align: middle;\n",
       "    }\n",
       "\n",
       "    .dataframe tbody tr th {\n",
       "        vertical-align: top;\n",
       "    }\n",
       "\n",
       "    .dataframe thead tr th {\n",
       "        text-align: left;\n",
       "    }\n",
       "\n",
       "    .dataframe thead tr:last-of-type th {\n",
       "        text-align: right;\n",
       "    }\n",
       "</style>\n",
       "<table border=\"1\" class=\"dataframe\">\n",
       "  <thead>\n",
       "    <tr>\n",
       "      <th></th>\n",
       "      <th colspan=\"5\" halign=\"left\">SPY</th>\n",
       "      <th colspan=\"5\" halign=\"left\">AGG</th>\n",
       "    </tr>\n",
       "    <tr>\n",
       "      <th></th>\n",
       "      <th>open</th>\n",
       "      <th>high</th>\n",
       "      <th>low</th>\n",
       "      <th>close</th>\n",
       "      <th>volume</th>\n",
       "      <th>open</th>\n",
       "      <th>high</th>\n",
       "      <th>low</th>\n",
       "      <th>close</th>\n",
       "      <th>volume</th>\n",
       "    </tr>\n",
       "    <tr>\n",
       "      <th>date</th>\n",
       "      <th></th>\n",
       "      <th></th>\n",
       "      <th></th>\n",
       "      <th></th>\n",
       "      <th></th>\n",
       "      <th></th>\n",
       "      <th></th>\n",
       "      <th></th>\n",
       "      <th></th>\n",
       "      <th></th>\n",
       "    </tr>\n",
       "  </thead>\n",
       "  <tbody>\n",
       "    <tr>\n",
       "      <th>2018-09-04</th>\n",
       "      <td>289.84</td>\n",
       "      <td>290.21</td>\n",
       "      <td>288.68</td>\n",
       "      <td>289.81</td>\n",
       "      <td>57594367</td>\n",
       "      <td>106.02</td>\n",
       "      <td>106.12</td>\n",
       "      <td>105.98</td>\n",
       "      <td>106.06</td>\n",
       "      <td>3164000</td>\n",
       "    </tr>\n",
       "    <tr>\n",
       "      <th>2018-09-05</th>\n",
       "      <td>289.41</td>\n",
       "      <td>289.64</td>\n",
       "      <td>287.89</td>\n",
       "      <td>289.03</td>\n",
       "      <td>72452437</td>\n",
       "      <td>106.05</td>\n",
       "      <td>106.08</td>\n",
       "      <td>105.96</td>\n",
       "      <td>106.01</td>\n",
       "      <td>2788329</td>\n",
       "    </tr>\n",
       "    <tr>\n",
       "      <th>2018-09-06</th>\n",
       "      <td>289.15</td>\n",
       "      <td>289.49</td>\n",
       "      <td>287.00</td>\n",
       "      <td>288.16</td>\n",
       "      <td>65909863</td>\n",
       "      <td>106.09</td>\n",
       "      <td>106.27</td>\n",
       "      <td>106.09</td>\n",
       "      <td>106.19</td>\n",
       "      <td>2248481</td>\n",
       "    </tr>\n",
       "    <tr>\n",
       "      <th>2018-09-07</th>\n",
       "      <td>286.98</td>\n",
       "      <td>288.70</td>\n",
       "      <td>286.71</td>\n",
       "      <td>287.60</td>\n",
       "      <td>73524824</td>\n",
       "      <td>105.92</td>\n",
       "      <td>105.94</td>\n",
       "      <td>105.81</td>\n",
       "      <td>105.81</td>\n",
       "      <td>2571740</td>\n",
       "    </tr>\n",
       "    <tr>\n",
       "      <th>2018-09-10</th>\n",
       "      <td>288.74</td>\n",
       "      <td>289.04</td>\n",
       "      <td>287.88</td>\n",
       "      <td>288.10</td>\n",
       "      <td>50210903</td>\n",
       "      <td>105.85</td>\n",
       "      <td>105.95</td>\n",
       "      <td>105.85</td>\n",
       "      <td>105.91</td>\n",
       "      <td>3305683</td>\n",
       "    </tr>\n",
       "  </tbody>\n",
       "</table>\n",
       "</div>"
      ],
      "text/plain": [
       "               SPY                                       AGG                  \\\n",
       "              open    high     low   close    volume    open    high     low   \n",
       "date                                                                           \n",
       "2018-09-04  289.84  290.21  288.68  289.81  57594367  106.02  106.12  105.98   \n",
       "2018-09-05  289.41  289.64  287.89  289.03  72452437  106.05  106.08  105.96   \n",
       "2018-09-06  289.15  289.49  287.00  288.16  65909863  106.09  106.27  106.09   \n",
       "2018-09-07  286.98  288.70  286.71  287.60  73524824  105.92  105.94  105.81   \n",
       "2018-09-10  288.74  289.04  287.88  288.10  50210903  105.85  105.95  105.85   \n",
       "\n",
       "                             \n",
       "             close   volume  \n",
       "date                         \n",
       "2018-09-04  106.06  3164000  \n",
       "2018-09-05  106.01  2788329  \n",
       "2018-09-06  106.19  2248481  \n",
       "2018-09-07  105.81  2571740  \n",
       "2018-09-10  105.91  3305683  "
      ]
     },
     "execution_count": 4,
     "metadata": {},
     "output_type": "execute_result"
    }
   ],
   "source": [
    "list_of_tickers = [\"SPY\", \"AGG\"]\n",
    "end_date = datetime.now()\n",
    "start_date = end_date + timedelta(-365)\n",
    "\n",
    "#\n",
    "df = get_historical_data(list_of_tickers, start_date, end_date,  output_format='pandas')\n",
    "df.head()"
   ]
  },
  {
   "cell_type": "code",
   "execution_count": 5,
   "metadata": {},
   "outputs": [
    {
     "data": {
      "text/html": [
       "<div>\n",
       "<style scoped>\n",
       "    .dataframe tbody tr th:only-of-type {\n",
       "        vertical-align: middle;\n",
       "    }\n",
       "\n",
       "    .dataframe tbody tr th {\n",
       "        vertical-align: top;\n",
       "    }\n",
       "\n",
       "    .dataframe thead tr th {\n",
       "        text-align: left;\n",
       "    }\n",
       "\n",
       "    .dataframe thead tr:last-of-type th {\n",
       "        text-align: right;\n",
       "    }\n",
       "</style>\n",
       "<table border=\"1\" class=\"dataframe\">\n",
       "  <thead>\n",
       "    <tr>\n",
       "      <th></th>\n",
       "      <th>SPY</th>\n",
       "      <th>AGG</th>\n",
       "    </tr>\n",
       "    <tr>\n",
       "      <th></th>\n",
       "      <th>close</th>\n",
       "      <th>close</th>\n",
       "    </tr>\n",
       "    <tr>\n",
       "      <th>date</th>\n",
       "      <th></th>\n",
       "      <th></th>\n",
       "    </tr>\n",
       "  </thead>\n",
       "  <tbody>\n",
       "    <tr>\n",
       "      <th>2018-09-04</th>\n",
       "      <td>289.81</td>\n",
       "      <td>106.06</td>\n",
       "    </tr>\n",
       "    <tr>\n",
       "      <th>2018-09-05</th>\n",
       "      <td>289.03</td>\n",
       "      <td>106.01</td>\n",
       "    </tr>\n",
       "    <tr>\n",
       "      <th>2018-09-06</th>\n",
       "      <td>288.16</td>\n",
       "      <td>106.19</td>\n",
       "    </tr>\n",
       "    <tr>\n",
       "      <th>2018-09-07</th>\n",
       "      <td>287.60</td>\n",
       "      <td>105.81</td>\n",
       "    </tr>\n",
       "    <tr>\n",
       "      <th>2018-09-10</th>\n",
       "      <td>288.10</td>\n",
       "      <td>105.91</td>\n",
       "    </tr>\n",
       "  </tbody>\n",
       "</table>\n",
       "</div>"
      ],
      "text/plain": [
       "               SPY     AGG\n",
       "             close   close\n",
       "date                      \n",
       "2018-09-04  289.81  106.06\n",
       "2018-09-05  289.03  106.01\n",
       "2018-09-06  288.16  106.19\n",
       "2018-09-07  287.60  105.81\n",
       "2018-09-10  288.10  105.91"
      ]
     },
     "execution_count": 5,
     "metadata": {},
     "output_type": "execute_result"
    }
   ],
   "source": [
    "df.drop(columns=['open', 'high', 'low', 'volume'], level=1, inplace=True)\n",
    "df.head()"
   ]
  },
  {
   "cell_type": "code",
   "execution_count": 6,
   "metadata": {},
   "outputs": [],
   "source": [
    "#daily_returns = df.pct_change()\n",
    "#daily_returns.dropna().head()"
   ]
  },
  {
   "cell_type": "code",
   "execution_count": null,
   "metadata": {},
   "outputs": [],
   "source": []
  },
  {
   "cell_type": "markdown",
   "metadata": {},
   "source": [
    "# Monte Carlo Simulation\n",
    "\n",
    "In this step, you will run Monte Carlo Simulations for your portfolio to model portfolio performance at different retirement ages. \n",
    "\n",
    "Complete the following steps:\n",
    "1. Calculate the daily returns for the SPY and AGG closing prices.\n",
    "2. Calculate volatility for both the SPY and AGG closing prices.\n",
    "3. Find the last day's closing price for both stocks and save those as variables.\n",
    "4. Run a Monte Carlo Simulation of at least 100 iterations and generate at least 20 years of closing prices\n",
    "\n",
    "### HINTS:\n",
    "There are 252 trading days per year, so the number of records to generate for each Monte Carlo run will be 252 days * 20 years"
   ]
  },
  {
   "cell_type": "code",
   "execution_count": 7,
   "metadata": {},
   "outputs": [
    {
     "data": {
      "text/html": [
       "<div>\n",
       "<style scoped>\n",
       "    .dataframe tbody tr th:only-of-type {\n",
       "        vertical-align: middle;\n",
       "    }\n",
       "\n",
       "    .dataframe tbody tr th {\n",
       "        vertical-align: top;\n",
       "    }\n",
       "\n",
       "    .dataframe thead tr th {\n",
       "        text-align: left;\n",
       "    }\n",
       "\n",
       "    .dataframe thead tr:last-of-type th {\n",
       "        text-align: right;\n",
       "    }\n",
       "</style>\n",
       "<table border=\"1\" class=\"dataframe\">\n",
       "  <thead>\n",
       "    <tr>\n",
       "      <th></th>\n",
       "      <th>SPY</th>\n",
       "      <th>AGG</th>\n",
       "    </tr>\n",
       "    <tr>\n",
       "      <th></th>\n",
       "      <th>close</th>\n",
       "      <th>close</th>\n",
       "    </tr>\n",
       "    <tr>\n",
       "      <th>date</th>\n",
       "      <th></th>\n",
       "      <th></th>\n",
       "    </tr>\n",
       "  </thead>\n",
       "  <tbody>\n",
       "    <tr>\n",
       "      <th>2018-09-05</th>\n",
       "      <td>-0.002691</td>\n",
       "      <td>-0.000471</td>\n",
       "    </tr>\n",
       "    <tr>\n",
       "      <th>2018-09-06</th>\n",
       "      <td>-0.003010</td>\n",
       "      <td>0.001698</td>\n",
       "    </tr>\n",
       "    <tr>\n",
       "      <th>2018-09-07</th>\n",
       "      <td>-0.001943</td>\n",
       "      <td>-0.003578</td>\n",
       "    </tr>\n",
       "    <tr>\n",
       "      <th>2018-09-10</th>\n",
       "      <td>0.001739</td>\n",
       "      <td>0.000945</td>\n",
       "    </tr>\n",
       "    <tr>\n",
       "      <th>2018-09-11</th>\n",
       "      <td>0.003297</td>\n",
       "      <td>-0.001700</td>\n",
       "    </tr>\n",
       "  </tbody>\n",
       "</table>\n",
       "</div>"
      ],
      "text/plain": [
       "                 SPY       AGG\n",
       "               close     close\n",
       "date                          \n",
       "2018-09-05 -0.002691 -0.000471\n",
       "2018-09-06 -0.003010  0.001698\n",
       "2018-09-07 -0.001943 -0.003578\n",
       "2018-09-10  0.001739  0.000945\n",
       "2018-09-11  0.003297 -0.001700"
      ]
     },
     "execution_count": 7,
     "metadata": {},
     "output_type": "execute_result"
    }
   ],
   "source": [
    "# Calculate the daily roi for the stocks\n",
    "daily_returns = df.pct_change()\n",
    "daily_returns.dropna().head()"
   ]
  },
  {
   "cell_type": "code",
   "execution_count": 8,
   "metadata": {
    "collapsed": true
   },
   "outputs": [
    {
     "data": {
      "text/plain": [
       "0.010552203289006582"
      ]
     },
     "execution_count": 8,
     "metadata": {},
     "output_type": "execute_result"
    }
   ],
   "source": [
    "# Calculate volatility\n",
    "std_dev_daily_return_spy = daily_returns.std()['SPY']['close']\n",
    "std_dev_daily_return_agg = daily_returns.std()['AGG']['close']\n",
    "std_dev_daily_return_spy"
   ]
  },
  {
   "cell_type": "code",
   "execution_count": 9,
   "metadata": {},
   "outputs": [
    {
     "data": {
      "text/plain": [
       "6.834490303330254e-05"
      ]
     },
     "execution_count": 9,
     "metadata": {},
     "output_type": "execute_result"
    }
   ],
   "source": [
    "avg_daily_return_spy = daily_returns.mean()['SPY']['close']\n",
    "avg_daily_return_agg = daily_returns.mean()['AGG']['close']\n",
    "avg_daily_return_spy"
   ]
  },
  {
   "cell_type": "code",
   "execution_count": 10,
   "metadata": {
    "collapsed": true
   },
   "outputs": [],
   "source": [
    "# Save the last day's closing price\n",
    "# YOUR CODE HERE"
   ]
  },
  {
   "cell_type": "code",
   "execution_count": 11,
   "metadata": {
    "collapsed": true
   },
   "outputs": [],
   "source": [
    "# Setup the Monte Carlo Parameters\n",
    "number_simulations = 500\n",
    "num_trading_days = 7560\n",
    "number_records = num_trading_days * 30\n",
    "monte_carlo = pd.DataFrame()\n",
    "\n",
    "simulated_price_df = pd.DataFrame()\n",
    "portfolio_cumulative_returns = pd.DataFrame()\n",
    "\n",
    "spy_close = df['SPY']['close'][-1]\n",
    "agg_close = df['AGG']['close'][-1]\n"
   ]
  },
  {
   "cell_type": "code",
   "execution_count": 12,
   "metadata": {},
   "outputs": [
    {
     "data": {
      "text/html": [
       "<div>\n",
       "<style scoped>\n",
       "    .dataframe tbody tr th:only-of-type {\n",
       "        vertical-align: middle;\n",
       "    }\n",
       "\n",
       "    .dataframe tbody tr th {\n",
       "        vertical-align: top;\n",
       "    }\n",
       "\n",
       "    .dataframe thead th {\n",
       "        text-align: right;\n",
       "    }\n",
       "</style>\n",
       "<table border=\"1\" class=\"dataframe\">\n",
       "  <thead>\n",
       "    <tr style=\"text-align: right;\">\n",
       "      <th></th>\n",
       "      <th>0</th>\n",
       "      <th>1</th>\n",
       "      <th>2</th>\n",
       "      <th>3</th>\n",
       "      <th>4</th>\n",
       "      <th>5</th>\n",
       "      <th>6</th>\n",
       "      <th>7</th>\n",
       "      <th>8</th>\n",
       "      <th>9</th>\n",
       "      <th>...</th>\n",
       "      <th>490</th>\n",
       "      <th>491</th>\n",
       "      <th>492</th>\n",
       "      <th>493</th>\n",
       "      <th>494</th>\n",
       "      <th>495</th>\n",
       "      <th>496</th>\n",
       "      <th>497</th>\n",
       "      <th>498</th>\n",
       "      <th>499</th>\n",
       "    </tr>\n",
       "  </thead>\n",
       "  <tbody>\n",
       "    <tr>\n",
       "      <th>0</th>\n",
       "      <td>1.000000</td>\n",
       "      <td>1.000000</td>\n",
       "      <td>1.000000</td>\n",
       "      <td>1.000000</td>\n",
       "      <td>1.000000</td>\n",
       "      <td>1.000000</td>\n",
       "      <td>1.000000</td>\n",
       "      <td>1.000000</td>\n",
       "      <td>1.000000</td>\n",
       "      <td>1.000000</td>\n",
       "      <td>...</td>\n",
       "      <td>1.000000</td>\n",
       "      <td>1.000000</td>\n",
       "      <td>1.000000</td>\n",
       "      <td>1.000000</td>\n",
       "      <td>1.000000</td>\n",
       "      <td>1.000000</td>\n",
       "      <td>1.000000</td>\n",
       "      <td>1.000000</td>\n",
       "      <td>1.000000</td>\n",
       "      <td>1.000000</td>\n",
       "    </tr>\n",
       "    <tr>\n",
       "      <th>1</th>\n",
       "      <td>1.003198</td>\n",
       "      <td>0.993741</td>\n",
       "      <td>0.990602</td>\n",
       "      <td>0.998563</td>\n",
       "      <td>1.005974</td>\n",
       "      <td>1.009201</td>\n",
       "      <td>1.012315</td>\n",
       "      <td>0.993407</td>\n",
       "      <td>1.001846</td>\n",
       "      <td>0.998759</td>\n",
       "      <td>...</td>\n",
       "      <td>1.002166</td>\n",
       "      <td>0.994376</td>\n",
       "      <td>1.009066</td>\n",
       "      <td>0.999240</td>\n",
       "      <td>0.996683</td>\n",
       "      <td>1.003353</td>\n",
       "      <td>0.994250</td>\n",
       "      <td>0.990673</td>\n",
       "      <td>1.003784</td>\n",
       "      <td>0.996360</td>\n",
       "    </tr>\n",
       "    <tr>\n",
       "      <th>2</th>\n",
       "      <td>1.008593</td>\n",
       "      <td>0.998084</td>\n",
       "      <td>0.988739</td>\n",
       "      <td>0.997466</td>\n",
       "      <td>1.010047</td>\n",
       "      <td>0.996492</td>\n",
       "      <td>1.004595</td>\n",
       "      <td>0.979217</td>\n",
       "      <td>1.000312</td>\n",
       "      <td>1.009776</td>\n",
       "      <td>...</td>\n",
       "      <td>1.004164</td>\n",
       "      <td>1.003555</td>\n",
       "      <td>1.012602</td>\n",
       "      <td>1.000651</td>\n",
       "      <td>0.997998</td>\n",
       "      <td>0.999577</td>\n",
       "      <td>0.992991</td>\n",
       "      <td>0.990904</td>\n",
       "      <td>1.003346</td>\n",
       "      <td>1.000560</td>\n",
       "    </tr>\n",
       "    <tr>\n",
       "      <th>3</th>\n",
       "      <td>1.007080</td>\n",
       "      <td>0.997692</td>\n",
       "      <td>0.992948</td>\n",
       "      <td>0.989065</td>\n",
       "      <td>1.008824</td>\n",
       "      <td>1.000691</td>\n",
       "      <td>1.008971</td>\n",
       "      <td>0.971226</td>\n",
       "      <td>0.999526</td>\n",
       "      <td>1.019605</td>\n",
       "      <td>...</td>\n",
       "      <td>1.003630</td>\n",
       "      <td>1.007247</td>\n",
       "      <td>1.018333</td>\n",
       "      <td>1.001785</td>\n",
       "      <td>0.989019</td>\n",
       "      <td>0.997183</td>\n",
       "      <td>0.997031</td>\n",
       "      <td>0.998464</td>\n",
       "      <td>1.007171</td>\n",
       "      <td>0.998111</td>\n",
       "    </tr>\n",
       "    <tr>\n",
       "      <th>4</th>\n",
       "      <td>1.017874</td>\n",
       "      <td>1.000894</td>\n",
       "      <td>0.987277</td>\n",
       "      <td>0.995989</td>\n",
       "      <td>1.009847</td>\n",
       "      <td>0.993197</td>\n",
       "      <td>1.006385</td>\n",
       "      <td>0.967554</td>\n",
       "      <td>1.009485</td>\n",
       "      <td>1.005010</td>\n",
       "      <td>...</td>\n",
       "      <td>1.005902</td>\n",
       "      <td>1.004032</td>\n",
       "      <td>1.015855</td>\n",
       "      <td>1.008751</td>\n",
       "      <td>0.996664</td>\n",
       "      <td>0.992724</td>\n",
       "      <td>0.989212</td>\n",
       "      <td>0.998661</td>\n",
       "      <td>1.012945</td>\n",
       "      <td>1.002263</td>\n",
       "    </tr>\n",
       "  </tbody>\n",
       "</table>\n",
       "<p>5 rows × 500 columns</p>\n",
       "</div>"
      ],
      "text/plain": [
       "        0         1         2         3         4         5         6    \\\n",
       "0  1.000000  1.000000  1.000000  1.000000  1.000000  1.000000  1.000000   \n",
       "1  1.003198  0.993741  0.990602  0.998563  1.005974  1.009201  1.012315   \n",
       "2  1.008593  0.998084  0.988739  0.997466  1.010047  0.996492  1.004595   \n",
       "3  1.007080  0.997692  0.992948  0.989065  1.008824  1.000691  1.008971   \n",
       "4  1.017874  1.000894  0.987277  0.995989  1.009847  0.993197  1.006385   \n",
       "\n",
       "        7         8         9    ...       490       491       492       493  \\\n",
       "0  1.000000  1.000000  1.000000  ...  1.000000  1.000000  1.000000  1.000000   \n",
       "1  0.993407  1.001846  0.998759  ...  1.002166  0.994376  1.009066  0.999240   \n",
       "2  0.979217  1.000312  1.009776  ...  1.004164  1.003555  1.012602  1.000651   \n",
       "3  0.971226  0.999526  1.019605  ...  1.003630  1.007247  1.018333  1.001785   \n",
       "4  0.967554  1.009485  1.005010  ...  1.005902  1.004032  1.015855  1.008751   \n",
       "\n",
       "        494       495       496       497       498       499  \n",
       "0  1.000000  1.000000  1.000000  1.000000  1.000000  1.000000  \n",
       "1  0.996683  1.003353  0.994250  0.990673  1.003784  0.996360  \n",
       "2  0.997998  0.999577  0.992991  0.990904  1.003346  1.000560  \n",
       "3  0.989019  0.997183  0.997031  0.998464  1.007171  0.998111  \n",
       "4  0.996664  0.992724  0.989212  0.998661  1.012945  1.002263  \n",
       "\n",
       "[5 rows x 500 columns]"
      ]
     },
     "execution_count": 12,
     "metadata": {},
     "output_type": "execute_result"
    }
   ],
   "source": [
    "# Run the Monte Carlo Simulation\n",
    "# Run the simulation of projecting stock prices for the next trading year, `1000` times\n",
    "\n",
    "for n in range(number_simulations):\n",
    "    \n",
    "    simulated_spy_prices = [spy_close]\n",
    "    simulated_agg_prices = [agg_close]\n",
    "    \n",
    "    # Simulate the returns for 252 days\n",
    "    for i in range(num_trading_days):\n",
    "        \n",
    "        # Calculate the simulated price using the last price within the list\n",
    "        simulated_spy_price = simulated_spy_prices[-1] * (1 + np.random.normal(avg_daily_return_spy, std_dev_daily_return_spy))\n",
    "        simulated_agg_price = simulated_agg_prices[-1] * (1 + np.random.normal(avg_daily_return_agg,std_dev_daily_return_agg))\n",
    "        \n",
    "        # Append the simulated price to the list\n",
    "        simulated_spy_prices.append(simulated_spy_price)\n",
    "        simulated_agg_prices.append(simulated_agg_price)\n",
    "    \n",
    "    # Append a simulated prices of each simulation to DataFrame\n",
    "    simulated_price_df[\"SPY prices\"] = pd.Series(simulated_spy_prices)\n",
    "    simulated_price_df[\"AGG prices\"] = pd.Series(simulated_agg_prices)\n",
    "    \n",
    "    # Calculate the daily returns of simulated prices\n",
    "    simulated_daily_returns = simulated_price_df.pct_change()\n",
    "    \n",
    "    weights = [0.60, 0.40]\n",
    "\n",
    "    # Use the `dot` function with the weights to multiply weights with each column's simulated daily returns\n",
    "    portfolio_daily_returns = simulated_daily_returns.dot(weights)\n",
    "    \n",
    "    # Calculate the normalized, cumulative return series\n",
    "    portfolio_cumulative_returns[n] = (1 + portfolio_daily_returns.fillna(0)).cumprod()\n",
    "\n",
    "# Print records from the DataFrame\n",
    "portfolio_cumulative_returns.head()"
   ]
  },
  {
   "cell_type": "code",
   "execution_count": 13,
   "metadata": {},
   "outputs": [
    {
     "name": "stdout",
     "output_type": "stream",
     "text": [
      "--- 8.049519538879395 seconds ---\n"
     ]
    },
    {
     "data": {
      "image/png": "[encoded data removed]",
      "text/plain": [
       "<Figure size 432x288 with 1 Axes>"
      ]
     },
     "metadata": {
      "needs_background": "light"
     },
     "output_type": "display_data"
    }
   ],
   "source": [
    "# Visualize the Simulation\n",
    "start_time = time.time()\n",
    "plot_title = f\"{n+1} Simulations of Cumulative Portfolio Return Trajectories Over the Next {num_trading_days} Trading Days\"\n",
    "portfolio_cumulative_returns.plot(legend=None, title=plot_title)\n",
    "\n",
    "print(\"--- %s seconds ---\" % (time.time() - start_time))"
   ]
  },
  {
   "cell_type": "code",
   "execution_count": 14,
   "metadata": {},
   "outputs": [
    {
     "data": {
      "text/plain": [
       "0    3.361799\n",
       "1    2.612700\n",
       "2    4.000198\n",
       "3    4.374724\n",
       "4    3.764573\n",
       "Name: 7560, dtype: float64"
      ]
     },
     "execution_count": 14,
     "metadata": {},
     "output_type": "execute_result"
    }
   ],
   "source": [
    "# Select the last row for the cumulative returns (cumulative returns at 30 years)\n",
    "ending_cumulative_returns = portfolio_cumulative_returns.iloc[-1, :]\n",
    "ending_cumulative_returns.head()"
   ]
  },
  {
   "cell_type": "code",
   "execution_count": 15,
   "metadata": {},
   "outputs": [
    {
     "data": {
      "text/plain": [
       "0    3.361799\n",
       "1    2.612700\n",
       "2    4.000198\n",
       "3    4.374724\n",
       "4    3.764573\n",
       "Name: 7560, dtype: float64"
      ]
     },
     "execution_count": 15,
     "metadata": {},
     "output_type": "execute_result"
    }
   ],
   "source": [
    "# Select the last row for the cumulative returns (cumulative returns at 20 years)\n",
    "returns_20 = num_trading_days * 20\n",
    "returns_20_years = portfolio_cumulative_returns.iloc[-1, : returns_20]\n",
    "#returns_20_years = portfolio_cumulative_returns.iloc[-1, 450]\n",
    "returns_20_years.head()"
   ]
  },
  {
   "cell_type": "code",
   "execution_count": 16,
   "metadata": {},
   "outputs": [
    {
     "data": {
      "text/plain": [
       "(1.687, 2.939]      0.406\n",
       "(2.939, 4.191]      0.218\n",
       "(0.422, 1.687]      0.172\n",
       "(4.191, 5.443]      0.106\n",
       "(5.443, 6.695]      0.052\n",
       "(6.695, 7.947]      0.022\n",
       "(7.947, 9.199]      0.016\n",
       "(9.199, 10.451]     0.006\n",
       "(11.703, 12.955]    0.002\n",
       "(10.451, 11.703]    0.000\n",
       "Name: 7560, dtype: float64"
      ]
     },
     "execution_count": 16,
     "metadata": {},
     "output_type": "execute_result"
    }
   ],
   "source": [
    "ending_cumulative_returns.value_counts(bins=10) / len(ending_cumulative_returns)"
   ]
  },
  {
   "cell_type": "code",
   "execution_count": 17,
   "metadata": {},
   "outputs": [
    {
     "name": "stdout",
     "output_type": "stream",
     "text": [
      "None\n"
     ]
    },
    {
     "data": {
      "image/png": "[encoded data removed]",
      "text/plain": [
       "<Figure size 432x288 with 1 Axes>"
      ]
     },
     "metadata": {
      "needs_background": "light"
     },
     "output_type": "display_data"
    }
   ],
   "source": [
    "confidence_range = [0.1 , 0.9]\n",
    "def confidence_interval_2(r):\n",
    "    \"\"\"Calculate quintile values from decimal confidence interval value\"\"\"\n",
    "    quintile_range_difference = (1-r)/2\n",
    "    quintile_range = [(0+quintile_range_difference), (1-quintile_range_difference)]\n",
    "    \n",
    "    confidence_interval = ending_cumulative_returns.quantile(q=quintile_range)\n",
    "    \n",
    "    ending_cumulative_returns.plot(kind='hist', density=True, bins=10)\n",
    "    plt.axvline(confidence_interval.iloc[0], color='r')\n",
    "    plt.axvline(confidence_interval.iloc[1], color='r')\n",
    "    \n",
    "    #print(confidence_interval1(r))\n",
    "    #confidence_interval = ending_cumulative_returns.quantile(q=[0.2, 0.8])\n",
    "    \n",
    "    \n",
    "#print(type(confidence_interval1(.5)))\n",
    "#print(confidence_interval1(0.5))\n",
    "print(confidence_interval_2(.8))"
   ]
  },
  {
   "cell_type": "code",
   "execution_count": 26,
   "metadata": {},
   "outputs": [
    {
     "name": "stdout",
     "output_type": "stream",
     "text": [
      "None\n"
     ]
    },
    {
     "data": {
      "image/png": "[encoded data removed]",
      "text/plain": [
       "<Figure size 432x288 with 1 Axes>"
      ]
     },
     "metadata": {
      "needs_background": "light"
     },
     "output_type": "display_data"
    }
   ],
   "source": [
    "# Display the 90% confidence interval for the ending returns\n",
    "#ending_cumulative_returns.plot(kind='hist', bins=10)\n",
    "#confidence_interval = ending_cumulative_returns.quantile(q=[0.05, 0.95])\n",
    "#confidence_interval\n",
    "#plt.figure();\n",
    "#ending_cumulative_returns.plot(kind='hist', density=True, bins=10)\n",
    "#plt.axvline(confidence_interval.iloc[0], color='r')\n",
    "#plt.axvline(confidence_interval.iloc[1], color='r')\n",
    "print(confidence_interval_2(.9))"
   ]
  },
  {
   "cell_type": "markdown",
   "metadata": {},
   "source": [
    "# Visualize the distribution of the ending returns\n",
    "end_returns = portfolio_cumulative_returns.iloc[-1, :]\n",
    "end_returns.head()\n",
    "end_returns.plot(kind='hist', bins=100)"
   ]
  },
  {
   "cell_type": "markdown",
   "metadata": {},
   "source": [
    "---"
   ]
  },
  {
   "cell_type": "markdown",
   "metadata": {},
   "source": [
    "# Retirement Analysis\n",
    "\n",
    "In this section, you will use the monte carlo model to answer the following retirement planning questions:\n",
    "\n",
    "1. What are the expected cumulative returns at 30 years for the 10th, 50th, and 90th percentiles?\n",
    "2. Given an initial investment of `$20,000`, what is the expected portfolio return in dollars at the 10th, 50th, and 90th percentiles?\n",
    "3. Given the current projected annual income from the Plaid analysis, will a 4% withdraw rate from the retirement portfolio meet or exceed that value at the 10th percentile?\n",
    "4. How would a 50% increase in the initial investment amount affect the 4% retirement withdrawal?"
   ]
  },
  {
   "cell_type": "markdown",
   "metadata": {},
   "source": [
    "### What are the expected cumulative returns at 30 years for the 10th, 50th, and 90th percentiles?"
   ]
  },
  {
   "cell_type": "code",
   "execution_count": null,
   "metadata": {},
   "outputs": [],
   "source": [
    "print(confidence_interval1(.1))\n",
    "print(confidence_interval1(.5))\n",
    "print(confidence_interval1(.9))"
   ]
  },
  {
   "cell_type": "markdown",
   "metadata": {},
   "source": [
    "### Given an initial investment of `$20,000`, what is the expected portfolio return in dollars at the 10th, 50th, and 90th percentiles?"
   ]
  },
  {
   "cell_type": "code",
   "execution_count": 32,
   "metadata": {},
   "outputs": [
    {
     "name": "stdout",
     "output_type": "stream",
     "text": [
      "0.05    1.051393\n",
      "0.95    6.615350\n",
      "Name: 7560, dtype: float64\n"
     ]
    }
   ],
   "source": [
    "initial_investment = 20000\n",
    "def confidence_interval_1(r):\n",
    "    \"\"\"Calculate quintile values from decimal confidence interval value\"\"\"\n",
    "    quintile_range_difference = (1-r)/2\n",
    "    quintile_range = [(0+quintile_range_difference), (1-quintile_range_difference)]\n",
    "    \n",
    "    confidence_interval = ending_cumulative_returns.quantile(q=quintile_range)\n",
    "    return confidence_interval\n",
    "    \n",
    "def expected_returns(p):\n",
    "    \"\"\"Input percentile in decimal to get expected returns range\"\"\"\n",
    "    return confidence_interval_1(p)\n",
    "    investment_pnl_lower_bound = initial_investment * confidence_interval.iloc[0]\n",
    "    investment_pnl_upper_bound = initial_investment * confidence_interval.iloc[1]\n",
    "    print(f\"There is a {confidence_interval_1}% chance that an initial investment of ${initial_investment} in the portfolio\"\n",
    "    f\" over the next 252 * 3 trading days will end within in the range of\"\n",
    "    f\" ${investment_pnl_lower_bound} and ${investment_pnl_upper_bound}\")\n",
    "    \n",
    "# Calculate investment profit/loss of lower and upper bound cumulative portfolio returns\n",
    "#investment_pnl_lower_bound = initial_investment * confidence_interval.iloc[0]\n",
    "#investment_pnl_upper_bound = initial_investment * confidence_interval.iloc[1]\n",
    "                                                    \n",
    "# Print the results\n",
    "#print(f\"There is a {confidence_interval_2}% chance that an initial investment of ${initial_investment} in the portfolio\"\n",
    "      #f\" over the next 252 * 3 trading days will end within in the range of\"\n",
    "      #f\" ${investment_pnl_lower_bound} and ${investment_pnl_upper_bound}\")\n",
    "print(expected_returns(.9))"
   ]
  },
  {
   "cell_type": "markdown",
   "metadata": {},
   "source": [
    "### Given the current projected annual income from the Plaid analysis, will a 4% withdraw rate from the retirement portfolio meet or exceed that value at the 10th percentile?\n",
    "\n",
    "Note: This is effectively saying that 90% of the expected returns will be greater than the return at the 10th percentile, so this can help measure the uncertainty about having enough funds at retirement"
   ]
  },
  {
   "cell_type": "code",
   "execution_count": null,
   "metadata": {},
   "outputs": [],
   "source": [
    "# YOUR CODE HERE"
   ]
  },
  {
   "cell_type": "markdown",
   "metadata": {},
   "source": [
    "### How would a 50% increase in the initial investment amount affect the 4% retirement withdrawal?"
   ]
  },
  {
   "cell_type": "code",
   "execution_count": null,
   "metadata": {},
   "outputs": [],
   "source": [
    "# YOUR CODE HERE"
   ]
  },
  {
   "cell_type": "markdown",
   "metadata": {},
   "source": [
    "### Optional Challenge\n",
    "\n",
    "In this section, you will calculate and plot the cumulative returns for the median and 90% confidence intervals. This plot shows the expected cumulative returns for any given day between the first day and the last day of investment. "
   ]
  },
  {
   "cell_type": "code",
   "execution_count": null,
   "metadata": {},
   "outputs": [],
   "source": [
    "# YOUR CODE HERE"
   ]
  }
 ],
 "metadata": {
  "kernel_info": {
   "name": "dev"
  },
  "kernelspec": {
   "display_name": "Python 3",
   "language": "python",
   "name": "python3"
  },
  "language_info": {
   "codemirror_mode": {
    "name": "ipython",
    "version": 3
   },
   "file_extension": ".py",
   "mimetype": "text/x-python",
   "name": "python",
   "nbconvert_exporter": "python",
   "pygments_lexer": "ipython3",
   "version": "3.7.3"
  },
  "nteract": {
   "version": "0.12.3"
  }
 },
 "nbformat": 4,
 "nbformat_minor": 2
}
